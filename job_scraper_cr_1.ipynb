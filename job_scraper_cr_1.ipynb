{
 "cells": [
  {
   "cell_type": "code",
   "execution_count": null,
   "metadata": {},
   "outputs": [],
   "source": [
    "import requests as req\n",
    "import bs4"
   ]
  },
  {
   "cell_type": "code",
   "execution_count": null,
   "metadata": {},
   "outputs": [],
   "source": [
    "# Fill in your details here to be posted to the login form.\n",
    "creds = {\n",
    "    'session_key': 'andres.gutierrez.arcia@gmail.com',\n",
    "    'session_password': '',\n",
    "}\n",
    "\n",
    "url_base = 'https://www.linkedin.com'\n",
    "url_login = 'https://www.linkedin.com/login/'\n",
    "url_do_login = 'https://www.linkedin.com/uas/login-submit'\n",
    "#url_do_login = 'https://www.linkedin.com/login/checkpoint/lg/login-submit'\n",
    "url_job_search = 'https://www.linkedin.com/jobs/search/?geoId=101739942&keywords=developer&location=Costa%20Rica'\n",
    "html_login_page = req.get(url_login)\n",
    "soup = bs4.BeautifulSoup(html_login_page.text, 'html.parser')\n",
    "\n",
    "creds['csrf'] = soup.find('input', {'name': 'loginCsrfParam'}).get('value')\n",
    "\n",
    "display(creds)"
   ]
  },
  {
   "cell_type": "code",
   "execution_count": null,
   "metadata": {},
   "outputs": [],
   "source": [
    "# req.post(url, data=creds)\n",
    "with req.Session() as session:\n",
    "    post = session.post(url_do_login, data=creds)\n",
    "    display(post)\n",
    "    job_response = session.get(url_job_search)"
   ]
  },
  {
   "cell_type": "code",
   "execution_count": null,
   "metadata": {},
   "outputs": [],
   "source": [
    "jobs_soup = bs4.BeautifulSoup(job_response.text, 'html.parser')"
   ]
  },
  {
   "cell_type": "code",
   "execution_count": null,
   "metadata": {},
   "outputs": [],
   "source": [
    "jobs_soup.select('h3');"
   ]
  },
  {
   "cell_type": "code",
   "execution_count": null,
   "metadata": {},
   "outputs": [],
   "source": [
    "jobs_soup.select('.result-card__full-card-link')[2].span.text"
   ]
  },
  {
   "cell_type": "code",
   "execution_count": null,
   "metadata": {},
   "outputs": [],
   "source": [
    "len(jobs_soup.select('.result-card__full-card-link'))"
   ]
  }
 ],
 "metadata": {
  "kernelspec": {
   "display_name": "Python 3",
   "language": "python",
   "name": "python3"
  },
  "language_info": {
   "codemirror_mode": {
    "name": "ipython",
    "version": 3
   },
   "file_extension": ".py",
   "mimetype": "text/x-python",
   "name": "python",
   "nbconvert_exporter": "python",
   "pygments_lexer": "ipython3",
   "version": "3.7.3"
  }
 },
 "nbformat": 4,
 "nbformat_minor": 2
}
