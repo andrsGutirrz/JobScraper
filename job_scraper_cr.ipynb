{
 "cells": [
  {
   "cell_type": "code",
   "execution_count": 1,
   "metadata": {},
   "outputs": [],
   "source": [
    "import requests as req\n",
    "import bs4"
   ]
  },
  {
   "cell_type": "code",
   "execution_count": 2,
   "metadata": {},
   "outputs": [],
   "source": [
    "url = 'https://www.elempleo.com/cr/ofertas-empleo/?&trabajo=Developer'\n",
    "user_agent = 'Mozilla/5.0 (Windows NT 10.0; Win64; x64) AppleWebKit/537.36 (KHTML, like Gecko) Chrome/75.0.3770.142 Safari/537.36'\n",
    "headers = {\n",
    "    'User-Agent': user_agent,\n",
    "}"
   ]
  },
  {
   "cell_type": "code",
   "execution_count": 3,
   "metadata": {},
   "outputs": [
    {
     "data": {
      "text/plain": [
       "True"
      ]
     },
     "execution_count": 3,
     "metadata": {},
     "output_type": "execute_result"
    }
   ],
   "source": [
    "response = req.get(url, headers=headers)\n",
    "response.ok #200"
   ]
  },
  {
   "cell_type": "code",
   "execution_count": 4,
   "metadata": {},
   "outputs": [],
   "source": [
    "response_clean = response.text.replace('\\n','').replace('\\r','');\n",
    "jobs_soup = bs4.BeautifulSoup(response_clean, 'html.parser')"
   ]
  },
  {
   "cell_type": "code",
   "execution_count": 5,
   "metadata": {},
   "outputs": [
    {
     "data": {
      "text/plain": [
       "'              Full stack developer            '"
      ]
     },
     "execution_count": 5,
     "metadata": {},
     "output_type": "execute_result"
    }
   ],
   "source": [
    "#CSS Selector like\n",
    "jobs_soup.select('.text-ellipsis')[1].text#.strip()"
   ]
  },
  {
   "cell_type": "code",
   "execution_count": 6,
   "metadata": {},
   "outputs": [
    {
     "data": {
      "text/plain": [
       "[{'url': '/cr/ofertas-trabajo/wordpress-developer/777940',\n",
       "  'job_title': 'Wordpress developer'},\n",
       " {'url': '/cr/ofertas-trabajo/full-stack-developer/777902',\n",
       "  'job_title': 'Full stack developer'},\n",
       " {'url': '/cr/ofertas-trabajo/full-stack-drupal-developer/777874',\n",
       "  'job_title': 'Full stack drupal developer'}]"
      ]
     },
     "execution_count": 6,
     "metadata": {},
     "output_type": "execute_result"
    }
   ],
   "source": [
    "job_list = [{'url':job['href'], 'job_title': job.text.strip()} for job in jobs_soup.select('.text-ellipsis')]\n",
    "job_list[:3]"
   ]
  },
  {
   "cell_type": "code",
   "execution_count": 7,
   "metadata": {},
   "outputs": [],
   "source": [
    "# Visit every job "
   ]
  },
  {
   "cell_type": "code",
   "execution_count": 8,
   "metadata": {},
   "outputs": [],
   "source": [
    "base_link = 'https://www.elempleo.com'\n",
    "job_links = []\n",
    "for job in job_list:\n",
    "    job_link = '{}{}'.format(base_link,job['url'])\n",
    "    job_links.append(job_link)\n",
    "    "
   ]
  },
  {
   "cell_type": "code",
   "execution_count": 9,
   "metadata": {},
   "outputs": [],
   "source": [
    "response2 = req.get(job_links[0].__str__())"
   ]
  },
  {
   "cell_type": "code",
   "execution_count": 10,
   "metadata": {},
   "outputs": [],
   "source": [
    "jobs_soup2 = bs4.BeautifulSoup(response2.text, 'html.parser')"
   ]
  },
  {
   "cell_type": "code",
   "execution_count": 11,
   "metadata": {},
   "outputs": [
    {
     "data": {
      "text/plain": [
       "'Salario confidencial'"
      ]
     },
     "execution_count": 11,
     "metadata": {},
     "output_type": "execute_result"
    }
   ],
   "source": [
    "# salary selector\n",
    "jobs_soup2.select('.js-joboffer-salary')[0].text.strip()"
   ]
  },
  {
   "cell_type": "code",
   "execution_count": 12,
   "metadata": {},
   "outputs": [
    {
     "data": {
      "text/plain": [
       "'Toda Costa Rica'"
      ]
     },
     "execution_count": 12,
     "metadata": {},
     "output_type": "execute_result"
    }
   ],
   "source": [
    "# location selector\n",
    "jobs_soup2.select('.js-joboffer-city')[0].text.strip()"
   ]
  },
  {
   "cell_type": "code",
   "execution_count": 13,
   "metadata": {},
   "outputs": [
    {
     "data": {
      "text/plain": [
       "'Empresa confidencial'"
      ]
     },
     "execution_count": 13,
     "metadata": {},
     "output_type": "execute_result"
    }
   ],
   "source": [
    "# company selector\n",
    "jobs_soup2.select('.data-company')[0].span.text.strip()"
   ]
  },
  {
   "cell_type": "code",
   "execution_count": 14,
   "metadata": {},
   "outputs": [
    {
     "data": {
      "text/plain": [
       "'\\n\\r\\n    Descripción general\\r\\n  \\n\\n\\r\\n      Responsible for both back-end and front-end website development.\\r The right candidate will have a strong understanding of the following 5 areas.\\r - Creating and customizing WP themes.\\r- Creating plugins that hook into WooCommerce and connect with payment gateways application programming interface (API).\\r- Prior server management experience using cPanel and a strong understanding of DNS Zone files and its content.\\r- Understanding of WordPress websites that use plugins such as Simply Static to convert WordPress pages and posts into static HTML files.\\r- Slice and hand-code PSD to compliant, cross-browser compatible WordPress pages.\\r\\n    \\n\\r\\n      Responsible for both back-end and front-end website development.\\r The right candidate will have a strong understanding of the following 5 areas.\\r - Creating and customizing WP themes.\\r- Creating plugins that hook into WooCommerce and connect with payment gateways application programming interface (API).\\r- Prior server management experience using cPanel and a strong understanding of DNS Zone files and its content.\\r- Understanding of WordPress websites that use plugins such as Simply Static to convert WordPress pages and posts into static HTML files.\\r- Slice and hand-code PSD to compliant, cross-browser compatible WordPress pages.\\r\\n\\r\\n      - Good understanding of front-end technologies, including HTML5, CSS3, JavaScript, jQuery\\r- Experience building user interfaces for websites and/or web applications\\r- Experience designing and developing responsive design websites\\r- Knowledge of how to interact with RESTful APIs and formats (JSON, XML)\\r- Proficient understanding of code versioning tools (such as Git)\\n\\r\\n        Profesional\\r\\n      \\n\\r\\n        Bachillerato universitario\\r\\n      \\nInformática y Computación\\n4 años de experiencia\\nCommunity Manager\\n\\r\\n        2\\r\\n        Vacantes\\r\\n      \\n\\n\\n'"
      ]
     },
     "execution_count": 14,
     "metadata": {},
     "output_type": "execute_result"
    }
   ],
   "source": [
    "# Description selector\n",
    "jobs_soup2.select('.description-block')[0].text"
   ]
  },
  {
   "cell_type": "code",
   "execution_count": 15,
   "metadata": {},
   "outputs": [
    {
     "data": {
      "text/plain": [
       "'\\n\\r\\n      - Good understanding of front-end technologies, including HTML5, CSS3, JavaScript, jQuery\\r- Experience building user interfaces for websites and/or web applications\\r- Experience designing and developing responsive design websites\\r- Knowledge of how to interact with RESTful APIs and formats (JSON, XML)\\r- Proficient understanding of code versioning tools (such as Git)\\r\\n    \\n'"
      ]
     },
     "execution_count": 15,
     "metadata": {},
     "output_type": "execute_result"
    }
   ],
   "source": [
    "# requirements selector\n",
    "jobs_soup2.select('.offer-detail > p')[0].text"
   ]
  },
  {
   "cell_type": "code",
   "execution_count": 16,
   "metadata": {},
   "outputs": [
    {
     "data": {
      "text/plain": [
       "20"
      ]
     },
     "execution_count": 16,
     "metadata": {},
     "output_type": "execute_result"
    }
   ],
   "source": [
    "len(job_list)"
   ]
  },
  {
   "cell_type": "code",
   "execution_count": null,
   "metadata": {},
   "outputs": [],
   "source": []
  }
 ],
 "metadata": {
  "kernelspec": {
   "display_name": "Python 3",
   "language": "python",
   "name": "python3"
  },
  "language_info": {
   "codemirror_mode": {
    "name": "ipython",
    "version": 3
   },
   "file_extension": ".py",
   "mimetype": "text/x-python",
   "name": "python",
   "nbconvert_exporter": "python",
   "pygments_lexer": "ipython3",
   "version": "3.7.3"
  }
 },
 "nbformat": 4,
 "nbformat_minor": 2
}
