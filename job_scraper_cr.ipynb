{
 "cells": [
  {
   "cell_type": "code",
   "execution_count": 1,
   "metadata": {},
   "outputs": [],
   "source": [
    "import requests as req\n",
    "import bs4"
   ]
  },
  {
   "cell_type": "code",
   "execution_count": 26,
   "metadata": {},
   "outputs": [
    {
     "data": {
      "text/plain": [
       "{'session_key': 'andres.gutierrez.arcia@gmail.com',\n",
       " 'session_password': 'xxx',\n",
       " 'csrf': '0ed86cc6-bf6a-4324-84be-8904d4dbd4af'}"
      ]
     },
     "metadata": {},
     "output_type": "display_data"
    }
   ],
   "source": [
    "# Fill in your details here to be posted to the login form.\n",
    "creds = {\n",
    "    'session_key': 'andres.gutierrez.arcia@gmail.com',\n",
    "    'session_password': 'profesional1',\n",
    "}\n",
    "\n",
    "url_base = 'https://www.linkedin.com'\n",
    "url_login = 'https://www.linkedin.com/login/'\n",
    "url_do_login = 'https://www.linkedin.com/uas/login-submit'\n",
    "url_job_search = 'https://www.linkedin.com/jobs/search/?geoId=101739942&keywords=developer&location=Costa%20Rica'\n",
    "html_login_page = req.get(url_login)\n",
    "soup = bs4.BeautifulSoup(html_login_page.text, 'html.parser')\n",
    "\n",
    "creds['csrf'] = soup.find('input', {'name': 'loginCsrfParam'}).get('value')\n",
    "\n",
    "display(creds)"
   ]
  },
  {
   "cell_type": "code",
   "execution_count": 29,
   "metadata": {},
   "outputs": [
    {
     "data": {
      "text/plain": [
       "<Response [200]>"
      ]
     },
     "metadata": {},
     "output_type": "display_data"
    }
   ],
   "source": [
    "# req.post(url, data=creds)\n",
    "with req.Session() as session:\n",
    "    post = session.post(url_do_login, data=creds)\n",
    "    display(post)\n",
    "    job_response = session.get(url_job_search)"
   ]
  },
  {
   "cell_type": "code",
   "execution_count": 30,
   "metadata": {},
   "outputs": [],
   "source": [
    "jobs_soup = bs4.BeautifulSoup(job_response.text, 'html.parser')"
   ]
  },
  {
   "cell_type": "code",
   "execution_count": 39,
   "metadata": {},
   "outputs": [
    {
     "data": {
      "text/plain": [
       "[<h3 class=\"result-card__title job-result-card__title\">Senior Software Engineer in .Net</h3>,\n",
       " <h3 class=\"result-card__title job-result-card__title\">Web Developer Analyst</h3>,\n",
       " <h3 class=\"result-card__title job-result-card__title\">Software Engineer</h3>,\n",
       " <h3 class=\"result-card__title job-result-card__title\">C# Developer</h3>,\n",
       " <h3 class=\"result-card__title job-result-card__title\">Full Stack Developer</h3>,\n",
       " <h3 class=\"result-card__title job-result-card__title\">Web Developer</h3>,\n",
       " <h3 class=\"result-card__title job-result-card__title\">PHP Web Developer - Remote</h3>,\n",
       " <h3 class=\"result-card__title job-result-card__title\">Angular Front End Developer</h3>,\n",
       " <h3 class=\"result-card__title job-result-card__title\">Java Developer - San José</h3>,\n",
       " <h3 class=\"result-card__title job-result-card__title\">Full Stack Developer - San José</h3>,\n",
       " <h3 class=\"result-card__title job-result-card__title\">.NET Junior Developer</h3>,\n",
       " <h3 class=\"result-card__title job-result-card__title\">Java Developer</h3>,\n",
       " <h3 class=\"result-card__title job-result-card__title\">Web Developer</h3>,\n",
       " <h3 class=\"result-card__title job-result-card__title\">Senior .Net Developer</h3>,\n",
       " <h3 class=\"result-card__title job-result-card__title\">React Developer</h3>,\n",
       " <h3 class=\"result-card__title job-result-card__title\">Application Developer</h3>,\n",
       " <h3 class=\"result-card__title job-result-card__title\">Software Engineer II - Web</h3>,\n",
       " <h3 class=\"result-card__title job-result-card__title\">Application Developer</h3>,\n",
       " <h3 class=\"result-card__title job-result-card__title\">Java Developer</h3>,\n",
       " <h3 class=\"result-card__title job-result-card__title\">Senior JavaScript Developer</h3>,\n",
       " <h3 class=\"result-card__title job-result-card__title\">Senior JavaScript Developer</h3>,\n",
       " <h3 class=\"result-card__title job-result-card__title\">.Net Developer</h3>,\n",
       " <h3 class=\"result-card__title job-result-card__title\">Java Software Developer</h3>,\n",
       " <h3 class=\"result-card__title job-result-card__title\">Software Developer</h3>,\n",
       " <h3 class=\"result-card__title job-result-card__title\">Python Developer</h3>]"
      ]
     },
     "execution_count": 39,
     "metadata": {},
     "output_type": "execute_result"
    }
   ],
   "source": [
    "jobs_soup.select('h3')"
   ]
  },
  {
   "cell_type": "code",
   "execution_count": null,
   "metadata": {},
   "outputs": [],
   "source": []
  }
 ],
 "metadata": {
  "kernelspec": {
   "display_name": "Python 3",
   "language": "python",
   "name": "python3"
  },
  "language_info": {
   "codemirror_mode": {
    "name": "ipython",
    "version": 3
   },
   "file_extension": ".py",
   "mimetype": "text/x-python",
   "name": "python",
   "nbconvert_exporter": "python",
   "pygments_lexer": "ipython3",
   "version": "3.7.1"
  }
 },
 "nbformat": 4,
 "nbformat_minor": 2
}
