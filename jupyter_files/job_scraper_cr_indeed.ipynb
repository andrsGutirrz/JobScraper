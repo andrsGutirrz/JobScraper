{
 "cells": [
  {
   "cell_type": "code",
   "execution_count": 1,
   "metadata": {},
   "outputs": [],
   "source": [
    "import requests as req\n",
    "import bs4"
   ]
  },
  {
   "cell_type": "code",
   "execution_count": 25,
   "metadata": {},
   "outputs": [],
   "source": [
    "url = 'https://cr.indeed.com/jobs?q=Developer&l=Costa+Rica'\n",
    "user_agent = 'Mozilla/5.0 (Windows NT 10.0; Win64; x64) AppleWebKit/537.36 (KHTML, like Gecko) Chrome/75.0.3770.142 Safari/537.36'\n",
    "headers = {\n",
    "    'User-Agent': user_agent,\n",
    "}"
   ]
  },
  {
   "cell_type": "code",
   "execution_count": 26,
   "metadata": {},
   "outputs": [
    {
     "data": {
      "text/plain": [
       "True"
      ]
     },
     "execution_count": 26,
     "metadata": {},
     "output_type": "execute_result"
    }
   ],
   "source": [
    "response = req.get(url, headers=headers)\n",
    "response.ok #200pa"
   ]
  },
  {
   "cell_type": "code",
   "execution_count": 27,
   "metadata": {},
   "outputs": [],
   "source": [
    "# create soup obj\n",
    "#response_clean = response.text.replace('\\n','').replace('\\t','').replace('\\r','')\n",
    "jobs_soup = bs4.BeautifulSoup(response.text, 'html.parser')"
   ]
  },
  {
   "cell_type": "code",
   "execution_count": 28,
   "metadata": {},
   "outputs": [],
   "source": [
    "response.text;"
   ]
  },
  {
   "cell_type": "code",
   "execution_count": 29,
   "metadata": {},
   "outputs": [
    {
     "data": {
      "text/plain": [
       "'30+ days ago'"
      ]
     },
     "execution_count": 29,
     "metadata": {},
     "output_type": "execute_result"
    }
   ],
   "source": [
    "jobs_soup.select('.date')[0].text"
   ]
  },
  {
   "cell_type": "code",
   "execution_count": 37,
   "metadata": {},
   "outputs": [
    {
     "data": {
      "text/plain": [
       "'MuleSoft Developer'"
      ]
     },
     "execution_count": 37,
     "metadata": {},
     "output_type": "execute_result"
    }
   ],
   "source": [
    "jobs_soup.select('.jobsearch-SerpJobCard .title .jobtitle')[1].text.strip()"
   ]
  },
  {
   "cell_type": "code",
   "execution_count": 39,
   "metadata": {},
   "outputs": [
    {
     "data": {
      "text/plain": [
       "[<span class=\"date\">30+ days ago</span>,\n",
       " <span class=\"date\">30+ days ago</span>,\n",
       " <span class=\"date\">hace 55 minutos</span>,\n",
       " <span class=\"date\">hace 3 días</span>,\n",
       " <span class=\"date\">30+ days ago</span>,\n",
       " <span class=\"date\">30+ days ago</span>,\n",
       " <span class=\"date\">hace 12 días</span>,\n",
       " <span class=\"date\">hace 19 días</span>,\n",
       " <span class=\"date\">hace 19 días</span>,\n",
       " <span class=\"date\">hace 8 días</span>]"
      ]
     },
     "execution_count": 39,
     "metadata": {},
     "output_type": "execute_result"
    }
   ],
   "source": [
    "jobs_soup.select('.jobsearch-SerpJobCard .jobsearch-SerpJobCard-footer .date')"
   ]
  },
  {
   "cell_type": "code",
   "execution_count": 49,
   "metadata": {},
   "outputs": [
    {
     "data": {
      "text/plain": [
       "'Junior Developer'"
      ]
     },
     "execution_count": 49,
     "metadata": {},
     "output_type": "execute_result"
    }
   ],
   "source": [
    "jobs_soup.select('.jobsearch-SerpJobCard')[0].select('.title')[0].select('.jobtitle')[0].text.strip()"
   ]
  },
  {
   "cell_type": "code",
   "execution_count": 7,
   "metadata": {},
   "outputs": [
    {
     "data": {
      "text/plain": [
       "[{'url': '/rc/clk?jk=4591ca5da4514825&fccid=0895accf661c1bad&vjs=3',\n",
       "  'job_title': 'Junior Developer'},\n",
       " {'url': '/rc/clk?jk=767ab2e9bf350fdc&fccid=6a2ed18cbe67a8ce&vjs=3',\n",
       "  'job_title': 'MuleSoft Developer'},\n",
       " {'url': '/rc/clk?jk=40d09cbbc095fdc3&fccid=554fcc4628bc3691&vjs=3',\n",
       "  'job_title': 'SQL Developer'}]"
      ]
     },
     "execution_count": 7,
     "metadata": {},
     "output_type": "execute_result"
    }
   ],
   "source": [
    "job_list = [{'url':job['href'], 'job_title': job.text.strip()} for job in jobs_soup.select('.jobtitle')]\n",
    "job_list[:3]"
   ]
  },
  {
   "cell_type": "code",
   "execution_count": 8,
   "metadata": {},
   "outputs": [],
   "source": [
    "# Visit every job "
   ]
  },
  {
   "cell_type": "code",
   "execution_count": 9,
   "metadata": {},
   "outputs": [],
   "source": [
    "base_link = 'https://cr.indeed.com'\n",
    "job_links = []\n",
    "for job in job_list:\n",
    "    job_link = '{}{}'.format(base_link,job['url'])\n",
    "    job_links.append(job_link)\n",
    "    "
   ]
  },
  {
   "cell_type": "code",
   "execution_count": 10,
   "metadata": {},
   "outputs": [
    {
     "data": {
      "text/plain": [
       "10"
      ]
     },
     "execution_count": 10,
     "metadata": {},
     "output_type": "execute_result"
    }
   ],
   "source": [
    "len(job_links)"
   ]
  },
  {
   "cell_type": "code",
   "execution_count": 11,
   "metadata": {},
   "outputs": [
    {
     "data": {
      "text/plain": [
       "True"
      ]
     },
     "execution_count": 11,
     "metadata": {},
     "output_type": "execute_result"
    }
   ],
   "source": [
    "response2 = req.get(job_links[0].__str__())\n",
    "response2.ok"
   ]
  },
  {
   "cell_type": "code",
   "execution_count": 12,
   "metadata": {},
   "outputs": [],
   "source": [
    "jobs_soup2 = bs4.BeautifulSoup(response2.text, 'html.parser')"
   ]
  },
  {
   "cell_type": "code",
   "execution_count": 13,
   "metadata": {},
   "outputs": [
    {
     "data": {
      "text/plain": [
       "'MBC Developers-Montes de Oca, Provincia de San José'"
      ]
     },
     "execution_count": 13,
     "metadata": {},
     "output_type": "execute_result"
    }
   ],
   "source": [
    "# Company & location selector\n",
    "jobs_soup2.select('.jobsearch-InlineCompanyRating')[0].text"
   ]
  },
  {
   "cell_type": "code",
   "execution_count": 14,
   "metadata": {},
   "outputs": [],
   "source": [
    "# job description\n",
    "jobs_soup2.select('#jobDescriptionText')[0].text;"
   ]
  },
  {
   "cell_type": "code",
   "execution_count": 15,
   "metadata": {},
   "outputs": [],
   "source": [
    "# dealing with pagination"
   ]
  },
  {
   "cell_type": "code",
   "execution_count": 16,
   "metadata": {},
   "outputs": [
    {
     "data": {
      "text/plain": [
       "'/jobs?q=Developer&l=Costa+Rica&start=10'"
      ]
     },
     "metadata": {},
     "output_type": "display_data"
    }
   ],
   "source": [
    "# next pag\n",
    "_next = jobs_soup.select('.pagination a')[-1]['href']\n",
    "display(_next)"
   ]
  },
  {
   "cell_type": "code",
   "execution_count": 17,
   "metadata": {},
   "outputs": [
    {
     "data": {
      "text/plain": [
       "'https://cr.indeed.com/jobs?q=Developer&l=Costa+Rica&start=230'"
      ]
     },
     "metadata": {},
     "output_type": "display_data"
    }
   ],
   "source": [
    "next_link = f'{base_link}/jobs?q=Developer&l=Costa+Rica&start=230'\n",
    "display(next_link)"
   ]
  },
  {
   "cell_type": "code",
   "execution_count": 18,
   "metadata": {},
   "outputs": [],
   "source": [
    "a = bs4.BeautifulSoup(req.get(next_link).text, 'html.parser').select('.pagination a')[-1]['href']"
   ]
  },
  {
   "cell_type": "code",
   "execution_count": 19,
   "metadata": {},
   "outputs": [
    {
     "data": {
      "text/plain": [
       "'220'"
      ]
     },
     "execution_count": 19,
     "metadata": {},
     "output_type": "execute_result"
    }
   ],
   "source": [
    "a.split('=')[-1]"
   ]
  },
  {
   "cell_type": "code",
   "execution_count": 20,
   "metadata": {},
   "outputs": [
    {
     "data": {
      "text/plain": [
       "['Junior Developer',\n",
       " 'MuleSoft Developer',\n",
       " 'SQL Developer',\n",
       " 'IT Developer',\n",
       " 'WordPress Developer (Junior)',\n",
       " 'Backend Developer for Drupal',\n",
       " 'IT Dev. Junior Application Developer',\n",
       " 'Frontend Developer for Drupal',\n",
       " 'Senior Web Developer',\n",
       " 'JUNIOR SOFTWARE DEVELOPER']"
      ]
     },
     "execution_count": 20,
     "metadata": {},
     "output_type": "execute_result"
    }
   ],
   "source": [
    "[job.text.strip() for job in jobs_soup.select('.jobtitle')]"
   ]
  },
  {
   "cell_type": "code",
   "execution_count": 21,
   "metadata": {},
   "outputs": [
    {
     "data": {
      "text/plain": [
       "'/jobs?q=Developer&l=Costa+Rica&start=10'"
      ]
     },
     "execution_count": 21,
     "metadata": {},
     "output_type": "execute_result"
    }
   ],
   "source": [
    "jobs_soup.select('.pagination a')[-1]['href']"
   ]
  },
  {
   "cell_type": "code",
   "execution_count": null,
   "metadata": {},
   "outputs": [],
   "source": []
  }
 ],
 "metadata": {
  "kernelspec": {
   "display_name": "Python 3",
   "language": "python",
   "name": "python3"
  },
  "language_info": {
   "codemirror_mode": {
    "name": "ipython",
    "version": 3
   },
   "file_extension": ".py",
   "mimetype": "text/x-python",
   "name": "python",
   "nbconvert_exporter": "python",
   "pygments_lexer": "ipython3",
   "version": "3.7.3"
  }
 },
 "nbformat": 4,
 "nbformat_minor": 2
}
