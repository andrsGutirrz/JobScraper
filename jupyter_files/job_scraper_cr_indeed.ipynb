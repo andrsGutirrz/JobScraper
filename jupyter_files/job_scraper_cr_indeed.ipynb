{
 "cells": [
  {
   "cell_type": "code",
   "execution_count": 1,
   "metadata": {},
   "outputs": [],
   "source": [
    "import pandas as pd\n",
    "import requests as req\n",
    "import bs4"
   ]
  },
  {
   "cell_type": "markdown",
   "metadata": {},
   "source": [
    "# Web scraper for Indeed Web page"
   ]
  },
  {
   "cell_type": "markdown",
   "metadata": {},
   "source": [
    "## Creating headers"
   ]
  },
  {
   "cell_type": "code",
   "execution_count": 2,
   "metadata": {},
   "outputs": [],
   "source": [
    "url = 'https://cr.indeed.com/jobs?q=Developer&l=Costa+Rica'\n",
    "base_link = 'https://cr.indeed.com'\n",
    "user_agent = 'Mozilla/5.0 (Windows NT 10.0; Win64; x64) AppleWebKit/537.36 (KHTML, like Gecko) Chrome/75.0.3770.142 Safari/537.36'\n",
    "headers = {\n",
    "    'User-Agent': user_agent,\n",
    "}"
   ]
  },
  {
   "cell_type": "markdown",
   "metadata": {},
   "source": [
    "## Using requests library"
   ]
  },
  {
   "cell_type": "code",
   "execution_count": 3,
   "metadata": {},
   "outputs": [
    {
     "data": {
      "text/plain": [
       "True"
      ]
     },
     "execution_count": 3,
     "metadata": {},
     "output_type": "execute_result"
    }
   ],
   "source": [
    "response = req.get(url, headers=headers)\n",
    "response.ok #200"
   ]
  },
  {
   "cell_type": "markdown",
   "metadata": {},
   "source": [
    "## Creating and BeautifulSoup object base on response obj"
   ]
  },
  {
   "cell_type": "code",
   "execution_count": 4,
   "metadata": {},
   "outputs": [],
   "source": [
    "jobs_soup = bs4.BeautifulSoup(response.text, 'html.parser')"
   ]
  },
  {
   "cell_type": "code",
   "execution_count": 5,
   "metadata": {},
   "outputs": [
    {
     "data": {
      "text/plain": [
       "'<!DOCTYPE html>\\n<html lang=\"es\" dir=\"ltr\">\\n<head>\\n<meta http-equiv=\"content-type\" content=\"text/html;charset=UTF-8\">\\n<script type=\"text/javascript\">\\n\\n(function ( tk ) { if ( tk && document.images ) { var s=\"/\", q=\"?\", a=\"&\", e=\"=\"; (new Image()).src = s+\"rpc\"+s+\"log\"+q+\"a\"+e+\"jslat\"+a+\"tk\"+e+tk; } })(\\'1dhkgdpl926qb003\\');\\n</script>\\n<script type=\"text/javascript\" src=\"/s/872b482/es_CR.js\"></script>\\n'"
      ]
     },
     "execution_count": 5,
     "metadata": {},
     "output_type": "execute_result"
    }
   ],
   "source": [
    "response.text[:400]"
   ]
  },
  {
   "cell_type": "markdown",
   "metadata": {},
   "source": [
    "## Job selector"
   ]
  },
  {
   "cell_type": "code",
   "execution_count": 6,
   "metadata": {},
   "outputs": [
    {
     "data": {
      "text/plain": [
       "'Wordpress Developer - Senior - Full Stack'"
      ]
     },
     "execution_count": 6,
     "metadata": {},
     "output_type": "execute_result"
    }
   ],
   "source": [
    "jobs_soup.select('.jobsearch-SerpJobCard')[0].select('.title')[0].select('.jobtitle')[0].text.strip()"
   ]
  },
  {
   "cell_type": "markdown",
   "metadata": {},
   "source": [
    "## Date selector"
   ]
  },
  {
   "cell_type": "code",
   "execution_count": 7,
   "metadata": {},
   "outputs": [
    {
     "data": {
      "text/plain": [
       "[<span class=\"date\">hace 7 horas</span>,\n",
       " <span class=\"date\">hace 21 horas</span>,\n",
       " <span class=\"date\">hace 1 día</span>,\n",
       " <span class=\"date\">hace 8 meses</span>,\n",
       " <span class=\"date\">hace 13 días</span>]"
      ]
     },
     "execution_count": 7,
     "metadata": {},
     "output_type": "execute_result"
    }
   ],
   "source": [
    "jobs_soup.select('.jobsearch-SerpJobCard .jobsearch-SerpJobCard-footer .date')[:5]"
   ]
  },
  {
   "cell_type": "markdown",
   "metadata": {},
   "source": [
    "## Iterating for every job and buid an object"
   ]
  },
  {
   "cell_type": "code",
   "execution_count": 8,
   "metadata": {},
   "outputs": [
    {
     "data": {
      "text/plain": [
       "[{'title': 'Wordpress Developer - Senior - Full Stack',\n",
       "  'link': 'https://cr.indeed.com/pagead/clk?mo=r&ad=-6NYlbfkN0C42uWlTcvQuSvYOtAav8PzwEmyqfcTD3ltHWCdPLhdUYorS3opGZQvGm0d7zjEri2TF-bveZjPY36Yp6PvrnjIVoYoo6PeuoRWkw70Jaj2LlZUkADIviLskz246y2Lp7tuLFfqtnNFxT3VrI_uXwlNPySTXI287MlpzwEJN-Xn-QlS3-x4AqDepzNsF55gRYA8nNCUgPVDu8bdmG2AHQO1eU20TTQaexiyoz6RaONBEHETjAOg8__YaCDnmHtQdhWyNkZ0_4WWqp0XfaPmadLeco0ZsB91-51CMiUZnVlan3OLfPdainQRCAmOjqM3Hfb8OriO4qfU-QRoozjkgrcor4UorRkZ6Xi66rTjTM_kNrAKG5J1s8adYuAsFdbVIoMbOuDpuhMKmt_gtsRZgMTkUQGJVqPIOR-7o03w8A_vlTcJuNRYTMLT&p=0&fvj=1&vjs=3',\n",
       "  'date': 'hace 7 horas'},\n",
       " {'title': 'Data Developer',\n",
       "  'link': 'https://cr.indeed.com/rc/clk?jk=db6ad71bdea13e5f&fccid=30c6be3855bc8a7c&vjs=3',\n",
       "  'date': 'hace 21 horas'},\n",
       " {'title': 'WordPress Developer (Junior)',\n",
       "  'link': 'https://cr.indeed.com/rc/clk?jk=3cb3503d625c9a94&fccid=1dd6fadbcd0d89b7&vjs=3',\n",
       "  'date': 'hace 1 día'}]"
      ]
     },
     "execution_count": 8,
     "metadata": {},
     "output_type": "execute_result"
    }
   ],
   "source": [
    "job_list = [{\n",
    "        'title': job.select('.title')[0].select('.jobtitle')[0].text.strip(), \n",
    "        'link':'{}{}'.format(base_link, job.select('.title')[0].select('.jobtitle')[0]['href']) ,\n",
    "        'date': job.select('.jobsearch-SerpJobCard-footer')[0].select('.date')[0].text,\n",
    "        } for job in jobs_soup.select('.jobsearch-SerpJobCard')]\n",
    "job_list[:3]"
   ]
  },
  {
   "cell_type": "markdown",
   "metadata": {},
   "source": [
    "## Visit every job "
   ]
  },
  {
   "cell_type": "code",
   "execution_count": 9,
   "metadata": {},
   "outputs": [],
   "source": [
    "base_link = 'https://cr.indeed.com'\n",
    "job_links = []\n",
    "for job in job_list:\n",
    "    job_links.append(job['link'])"
   ]
  },
  {
   "cell_type": "markdown",
   "metadata": {},
   "source": [
    "## Visition job at 0 pos"
   ]
  },
  {
   "cell_type": "code",
   "execution_count": 10,
   "metadata": {},
   "outputs": [
    {
     "data": {
      "text/plain": [
       "True"
      ]
     },
     "execution_count": 10,
     "metadata": {},
     "output_type": "execute_result"
    }
   ],
   "source": [
    "response2 = req.get(job_links[0].__str__())\n",
    "response2.ok"
   ]
  },
  {
   "cell_type": "code",
   "execution_count": 11,
   "metadata": {},
   "outputs": [],
   "source": [
    "jobs_soup2 = bs4.BeautifulSoup(response2.text, 'html.parser')"
   ]
  },
  {
   "cell_type": "markdown",
   "metadata": {},
   "source": [
    "## Company & location selector"
   ]
  },
  {
   "cell_type": "code",
   "execution_count": 12,
   "metadata": {},
   "outputs": [
    {
     "data": {
      "text/plain": [
       "'Confidential-'"
      ]
     },
     "execution_count": 12,
     "metadata": {},
     "output_type": "execute_result"
    }
   ],
   "source": [
    "jobs_soup2.select('.jobsearch-InlineCompanyRating')[0].text"
   ]
  },
  {
   "cell_type": "markdown",
   "metadata": {},
   "source": [
    "## Job description"
   ]
  },
  {
   "cell_type": "code",
   "execution_count": 13,
   "metadata": {},
   "outputs": [
    {
     "data": {
      "text/plain": [
       "\"About YouWe're looking for a forward thinking, engaging, Full Stack Senior Wordpress Developer with the ability to work closely with our design & marketing teams and manage multiple clients WP sites.You will live and breathe development and will be able to demonstrate your ability solve complex prob\""
      ]
     },
     "execution_count": 13,
     "metadata": {},
     "output_type": "execute_result"
    }
   ],
   "source": [
    "jobs_soup2.select('#jobDescriptionText')[0].text[:300]"
   ]
  },
  {
   "cell_type": "markdown",
   "metadata": {},
   "source": [
    "# Dealing with pagination"
   ]
  },
  {
   "cell_type": "markdown",
   "metadata": {},
   "source": [
    "## Get next pag url"
   ]
  },
  {
   "cell_type": "code",
   "execution_count": 14,
   "metadata": {},
   "outputs": [
    {
     "data": {
      "text/plain": [
       "'/jobs?q=Developer&l=Costa+Rica&start=10'"
      ]
     },
     "metadata": {},
     "output_type": "display_data"
    }
   ],
   "source": [
    "# Get last number page in the pagination field and then get the url from that particular number anchor object\n",
    "_next = jobs_soup.select('.pagination a')[-1]['href']\n",
    "display(_next)"
   ]
  },
  {
   "cell_type": "code",
   "execution_count": 15,
   "metadata": {},
   "outputs": [
    {
     "data": {
      "text/plain": [
       "'https://cr.indeed.com/jobs?q=Developer&l=Costa+Rica&start=230'"
      ]
     },
     "metadata": {},
     "output_type": "display_data"
    }
   ],
   "source": [
    "# URL is incomplete, concat with base url\n",
    "next_link = f'{base_link}/jobs?q=Developer&l=Costa+Rica&start=230'\n",
    "display(next_link)"
   ]
  },
  {
   "cell_type": "markdown",
   "metadata": {},
   "source": [
    "# Read CSV Generated file"
   ]
  },
  {
   "cell_type": "code",
   "execution_count": 16,
   "metadata": {},
   "outputs": [
    {
     "data": {
      "text/html": [
       "<div>\n",
       "<style scoped>\n",
       "    .dataframe tbody tr th:only-of-type {\n",
       "        vertical-align: middle;\n",
       "    }\n",
       "\n",
       "    .dataframe tbody tr th {\n",
       "        vertical-align: top;\n",
       "    }\n",
       "\n",
       "    .dataframe thead th {\n",
       "        text-align: right;\n",
       "    }\n",
       "</style>\n",
       "<table border=\"1\" class=\"dataframe\">\n",
       "  <thead>\n",
       "    <tr style=\"text-align: right;\">\n",
       "      <th></th>\n",
       "      <th>Unnamed: 0</th>\n",
       "      <th>company</th>\n",
       "      <th>date</th>\n",
       "      <th>description</th>\n",
       "      <th>link</th>\n",
       "      <th>title</th>\n",
       "    </tr>\n",
       "  </thead>\n",
       "  <tbody>\n",
       "    <tr>\n",
       "      <th>0</th>\n",
       "      <td>0</td>\n",
       "      <td>World Vision International-</td>\n",
       "      <td>30+ days ago</td>\n",
       "      <td>\\r\\nPreferred position location: Costa Rica. O...</td>\n",
       "      <td>https://cr.indeed.com/rc/clk?jk=767ab2e9bf350f...</td>\n",
       "      <td>MuleSoft Developer</td>\n",
       "    </tr>\n",
       "    <tr>\n",
       "      <th>1</th>\n",
       "      <td>1</td>\n",
       "      <td>MBC Developers-Montes de Oca, Provincia de San...</td>\n",
       "      <td>30+ days ago</td>\n",
       "      <td>Perfil del puesto: Se requiere Ingeniero(a) de...</td>\n",
       "      <td>https://cr.indeed.com/rc/clk?jk=4591ca5da45148...</td>\n",
       "      <td>Junior Developer</td>\n",
       "    </tr>\n",
       "    <tr>\n",
       "      <th>2</th>\n",
       "      <td>2</td>\n",
       "      <td>Lionbridge Technologies-</td>\n",
       "      <td>hace 1 hora</td>\n",
       "      <td>Core responsibilities will be\\r\\nDesign, archi...</td>\n",
       "      <td>https://cr.indeed.com/rc/clk?jk=604e61e3558efb...</td>\n",
       "      <td>Senior Web Developer</td>\n",
       "    </tr>\n",
       "    <tr>\n",
       "      <th>3</th>\n",
       "      <td>3</td>\n",
       "      <td>Intertec International11 evaluaciones-</td>\n",
       "      <td>hace 3 días</td>\n",
       "      <td>Job Description:\\r\\n\\r\\nMajor Functions/Respon...</td>\n",
       "      <td>https://cr.indeed.com/rc/clk?jk=40d09cbbc095fd...</td>\n",
       "      <td>SQL Developer</td>\n",
       "    </tr>\n",
       "    <tr>\n",
       "      <th>4</th>\n",
       "      <td>4</td>\n",
       "      <td>Cargill3,766 evaluaciones-San Antonio, Provinc...</td>\n",
       "      <td>30+ days ago</td>\n",
       "      <td>Position Purpose\\r\\n\\r\\nThe Application develo...</td>\n",
       "      <td>https://cr.indeed.com/rc/clk?jk=555f779d180a19...</td>\n",
       "      <td>IT Developer</td>\n",
       "    </tr>\n",
       "    <tr>\n",
       "      <th>5</th>\n",
       "      <td>5</td>\n",
       "      <td>Debugger Technology Solutions-</td>\n",
       "      <td>30+ days ago</td>\n",
       "      <td>Opciones de Contrato: (medio tiempo - tiempo c...</td>\n",
       "      <td>https://cr.indeed.com/rc/clk?jk=2b20952a80daa7...</td>\n",
       "      <td>WordPress Developer (Junior)</td>\n",
       "    </tr>\n",
       "    <tr>\n",
       "      <th>6</th>\n",
       "      <td>6</td>\n",
       "      <td>VMware718 evaluaciones-Heredia, Provincia de H...</td>\n",
       "      <td>hace 12 días</td>\n",
       "      <td>As an Application developer at VMware, you’ll ...</td>\n",
       "      <td>https://cr.indeed.com/rc/clk?jk=f0f89311353c40...</td>\n",
       "      <td>IT Dev. Junior Application Developer</td>\n",
       "    </tr>\n",
       "    <tr>\n",
       "      <th>7</th>\n",
       "      <td>7</td>\n",
       "      <td>Manatí-</td>\n",
       "      <td>hace 19 días</td>\n",
       "      <td>Buscamos una persona con experiencia en desarr...</td>\n",
       "      <td>https://cr.indeed.com/rc/clk?jk=e782e231b93c32...</td>\n",
       "      <td>Backend Developer for Drupal</td>\n",
       "    </tr>\n",
       "    <tr>\n",
       "      <th>8</th>\n",
       "      <td>8</td>\n",
       "      <td>Manatí-</td>\n",
       "      <td>hace 19 días</td>\n",
       "      <td>Buscamos una persona con experiencia en desarr...</td>\n",
       "      <td>https://cr.indeed.com/rc/clk?jk=40006a43cd2197...</td>\n",
       "      <td>Frontend Developer for Drupal</td>\n",
       "    </tr>\n",
       "    <tr>\n",
       "      <th>9</th>\n",
       "      <td>9</td>\n",
       "      <td>Empleos.net-</td>\n",
       "      <td>hace 8 días</td>\n",
       "      <td>Crear o modificar programas usando diferentes ...</td>\n",
       "      <td>https://cr.indeed.com/rc/clk?jk=349e7d32f0b85f...</td>\n",
       "      <td>JUNIOR SOFTWARE DEVELOPER</td>\n",
       "    </tr>\n",
       "  </tbody>\n",
       "</table>\n",
       "</div>"
      ],
      "text/plain": [
       "   Unnamed: 0                                            company  \\\n",
       "0           0                        World Vision International-   \n",
       "1           1  MBC Developers-Montes de Oca, Provincia de San...   \n",
       "2           2                           Lionbridge Technologies-   \n",
       "3           3             Intertec International11 evaluaciones-   \n",
       "4           4  Cargill3,766 evaluaciones-San Antonio, Provinc...   \n",
       "5           5                     Debugger Technology Solutions-   \n",
       "6           6  VMware718 evaluaciones-Heredia, Provincia de H...   \n",
       "7           7                                           Manatí-   \n",
       "8           8                                           Manatí-   \n",
       "9           9                                       Empleos.net-   \n",
       "\n",
       "           date                                        description  \\\n",
       "0  30+ days ago  \\r\\nPreferred position location: Costa Rica. O...   \n",
       "1  30+ days ago  Perfil del puesto: Se requiere Ingeniero(a) de...   \n",
       "2   hace 1 hora  Core responsibilities will be\\r\\nDesign, archi...   \n",
       "3   hace 3 días  Job Description:\\r\\n\\r\\nMajor Functions/Respon...   \n",
       "4  30+ days ago  Position Purpose\\r\\n\\r\\nThe Application develo...   \n",
       "5  30+ days ago  Opciones de Contrato: (medio tiempo - tiempo c...   \n",
       "6  hace 12 días  As an Application developer at VMware, you’ll ...   \n",
       "7  hace 19 días  Buscamos una persona con experiencia en desarr...   \n",
       "8  hace 19 días  Buscamos una persona con experiencia en desarr...   \n",
       "9   hace 8 días  Crear o modificar programas usando diferentes ...   \n",
       "\n",
       "                                                link  \\\n",
       "0  https://cr.indeed.com/rc/clk?jk=767ab2e9bf350f...   \n",
       "1  https://cr.indeed.com/rc/clk?jk=4591ca5da45148...   \n",
       "2  https://cr.indeed.com/rc/clk?jk=604e61e3558efb...   \n",
       "3  https://cr.indeed.com/rc/clk?jk=40d09cbbc095fd...   \n",
       "4  https://cr.indeed.com/rc/clk?jk=555f779d180a19...   \n",
       "5  https://cr.indeed.com/rc/clk?jk=2b20952a80daa7...   \n",
       "6  https://cr.indeed.com/rc/clk?jk=f0f89311353c40...   \n",
       "7  https://cr.indeed.com/rc/clk?jk=e782e231b93c32...   \n",
       "8  https://cr.indeed.com/rc/clk?jk=40006a43cd2197...   \n",
       "9  https://cr.indeed.com/rc/clk?jk=349e7d32f0b85f...   \n",
       "\n",
       "                                  title  \n",
       "0                    MuleSoft Developer  \n",
       "1                      Junior Developer  \n",
       "2                  Senior Web Developer  \n",
       "3                         SQL Developer  \n",
       "4                          IT Developer  \n",
       "5          WordPress Developer (Junior)  \n",
       "6  IT Dev. Junior Application Developer  \n",
       "7          Backend Developer for Drupal  \n",
       "8         Frontend Developer for Drupal  \n",
       "9             JUNIOR SOFTWARE DEVELOPER  "
      ]
     },
     "execution_count": 16,
     "metadata": {},
     "output_type": "execute_result"
    }
   ],
   "source": [
    "df = pd.read_csv(r'..\\data\\jobs.csv')\n",
    "df.head(10)"
   ]
  },
  {
   "cell_type": "code",
   "execution_count": null,
   "metadata": {},
   "outputs": [],
   "source": []
  }
 ],
 "metadata": {
  "kernelspec": {
   "display_name": "Python 3",
   "language": "python",
   "name": "python3"
  },
  "language_info": {
   "codemirror_mode": {
    "name": "ipython",
    "version": 3
   },
   "file_extension": ".py",
   "mimetype": "text/x-python",
   "name": "python",
   "nbconvert_exporter": "python",
   "pygments_lexer": "ipython3",
   "version": "3.7.1"
  }
 },
 "nbformat": 4,
 "nbformat_minor": 2
}
