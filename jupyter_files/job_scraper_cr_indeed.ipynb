{
 "cells": [
  {
   "cell_type": "code",
   "execution_count": 1,
   "metadata": {},
   "outputs": [],
   "source": [
    "import pandas as pd\n",
    "import requests as req\n",
    "import bs4"
   ]
  },
  {
   "cell_type": "markdown",
   "metadata": {},
   "source": [
    "# Web scraper for Indeed Web page"
   ]
  },
  {
   "cell_type": "markdown",
   "metadata": {},
   "source": [
    "## Creating headers"
   ]
  },
  {
   "cell_type": "code",
   "execution_count": 2,
   "metadata": {},
   "outputs": [],
   "source": [
    "url = 'https://cr.indeed.com/jobs?q=Developer&l=Costa+Rica'\n",
    "base_link = 'https://cr.indeed.com'\n",
    "user_agent = 'Mozilla/5.0 (Windows NT 10.0; Win64; x64) AppleWebKit/537.36 (KHTML, like Gecko) Chrome/75.0.3770.142 Safari/537.36'\n",
    "headers = {\n",
    "    'User-Agent': user_agent,\n",
    "}"
   ]
  },
  {
   "cell_type": "markdown",
   "metadata": {},
   "source": [
    "## Using requests library"
   ]
  },
  {
   "cell_type": "code",
   "execution_count": 3,
   "metadata": {},
   "outputs": [
    {
     "data": {
      "text/plain": [
       "True"
      ]
     },
     "execution_count": 3,
     "metadata": {},
     "output_type": "execute_result"
    }
   ],
   "source": [
    "response = req.get(url, headers=headers)\n",
    "response.ok #200"
   ]
  },
  {
   "cell_type": "markdown",
   "metadata": {},
   "source": [
    "## Creating and BeautifulSoup object base on response obj"
   ]
  },
  {
   "cell_type": "code",
   "execution_count": 4,
   "metadata": {},
   "outputs": [],
   "source": [
    "jobs_soup = bs4.BeautifulSoup(response.text, 'html.parser')"
   ]
  },
  {
   "cell_type": "code",
   "execution_count": 5,
   "metadata": {},
   "outputs": [
    {
     "data": {
      "text/plain": [
       "'<!DOCTYPE html>\\n<html lang=\"es\" dir=\"ltr\">\\n<head>\\n<meta http-equiv=\"content-type\" content=\"text/html;charset=UTF-8\">\\n<script type=\"text/javascript\" src=\"/s/872b482/es_CR.js\"></script>\\n<link href=\"/s/b219863/jobsearch_all.css\" rel=\"stylesheet\" type=\"text/css\">\\n<link rel=\"alternate\" type=\"application/rss+xml\" title=\"Trabajo - Developer en Costa Rica - Ofertas Empleo\" href=\"http://cr.indeed.com/rss?q'"
      ]
     },
     "execution_count": 5,
     "metadata": {},
     "output_type": "execute_result"
    }
   ],
   "source": [
    "response.text[:400]"
   ]
  },
  {
   "cell_type": "markdown",
   "metadata": {},
   "source": [
    "## Job selector"
   ]
  },
  {
   "cell_type": "code",
   "execution_count": 6,
   "metadata": {},
   "outputs": [
    {
     "data": {
      "text/plain": [
       "'Wordpress Developer - Senior - Full Stack'"
      ]
     },
     "execution_count": 6,
     "metadata": {},
     "output_type": "execute_result"
    }
   ],
   "source": [
    "jobs_soup.select('.jobsearch-SerpJobCard')[0].select('.title')[0].select('.jobtitle')[0].text.strip()"
   ]
  },
  {
   "cell_type": "markdown",
   "metadata": {},
   "source": [
    "## Date selector"
   ]
  },
  {
   "cell_type": "code",
   "execution_count": 7,
   "metadata": {},
   "outputs": [
    {
     "data": {
      "text/plain": [
       "[<span class=\"date\">hace 6 días</span>,\n",
       " <span class=\"date\">hace 5 días</span>,\n",
       " <span class=\"date\">30+ days ago</span>,\n",
       " <span class=\"date\">hace 4 días</span>,\n",
       " <span class=\"date\">30+ days ago</span>]"
      ]
     },
     "execution_count": 7,
     "metadata": {},
     "output_type": "execute_result"
    }
   ],
   "source": [
    "jobs_soup.select('.jobsearch-SerpJobCard .jobsearch-SerpJobCard-footer .date')[:5]"
   ]
  },
  {
   "cell_type": "markdown",
   "metadata": {},
   "source": [
    "## Iterating for every job and buid an object"
   ]
  },
  {
   "cell_type": "code",
   "execution_count": 8,
   "metadata": {},
   "outputs": [
    {
     "data": {
      "text/plain": [
       "'Wordpress Developer - Senior - Full Stack'"
      ]
     },
     "execution_count": 8,
     "metadata": {},
     "output_type": "execute_result"
    }
   ],
   "source": [
    "jobs_soup.select('.jobsearch-SerpJobCard')[0].select('.title')[0].select('.jobtitle')[0].text.strip()"
   ]
  },
  {
   "cell_type": "code",
   "execution_count": 9,
   "metadata": {},
   "outputs": [],
   "source": [
    "jobs_soup.select('.jobsearch-SerpJobCard')[0];"
   ]
  },
  {
   "cell_type": "code",
   "execution_count": 10,
   "metadata": {},
   "outputs": [
    {
     "data": {
      "text/plain": [
       "[{'title': 'Wordpress Developer - Senior - Full Stack',\n",
       "  'company': 'Confidential',\n",
       "  'location': 'San José, Provincia de San José',\n",
       "  'link': 'https://cr.indeed.com/pagead/clk?mo=r&ad=-6NYlbfkN0C42uWlTcvQuSvYOtAav8PzwEmyqfcTD3ltHWCdPLhdUYorS3opGZQvGm0d7zjEri2TF-bveZjPY36Yp6PvrnjIVoYoo6PeuoRWkw70Jaj2LlZUkADIviLskz246y2Lp7tuLFfqtnNFxT3VrI_uXwlNB7ndpPJoS1XivDqv_TinQinoUNUYAhZrbgZMJR61cdJS_-C0pFpa5B2aCRbCJYa3ZqNCAxhCbTkcT90kOXW1NZbVUFHcmakjplBSKMDB9lkgpSn-mfgSI2DSAslXvlCsQl1R19ShvorgE8j_Qn__m9HUG5RNOWoWzT-VwoEzMyx6krhH3SH6Rsa1LnlPTheaYo9KULmMbjrGB_f-EqQH-YKs0DY-AOJW0_0yRMtSqG7PYA7mHeXTyDiNRAYL3zV3XKilFqkP09IYEEnn1se3J18wTAFDvb4_&p=0&fvj=1&vjs=3'},\n",
       " {'title': 'WordPress Developer (Junior)',\n",
       "  'company': 'Debugger Technology Solutions',\n",
       "  'location': 'Curridabat, Provincia de San José',\n",
       "  'link': 'https://cr.indeed.com/rc/clk?jk=3cb3503d625c9a94&fccid=1dd6fadbcd0d89b7&vjs=3'},\n",
       " {'title': 'Data Developer',\n",
       "  'company': 'Wind River',\n",
       "  'location': 'San José, Provincia de San José',\n",
       "  'link': 'https://cr.indeed.com/rc/clk?jk=db6ad71bdea13e5f&fccid=30c6be3855bc8a7c&vjs=3'}]"
      ]
     },
     "execution_count": 10,
     "metadata": {},
     "output_type": "execute_result"
    }
   ],
   "source": [
    "job_list = [{\n",
    "        'title': job.select('.title')[0].select('.jobtitle')[0].text.strip(), \n",
    "        'company': job.select('.company')[0].text.strip(),\n",
    "        'location': job.select('.location')[0].text.strip(),\n",
    "        'link':'{}{}'.format(base_link, job.select('.title')[0].select('.jobtitle')[0]['href']) ,\n",
    "        #'date': job.select('.jobsearch-SerpJobCard-footer .date')[0].text,\n",
    "        } for job in jobs_soup.select('.jobsearch-SerpJobCard')]\n",
    "job_list[:3]"
   ]
  },
  {
   "cell_type": "markdown",
   "metadata": {},
   "source": [
    "## Visit every job "
   ]
  },
  {
   "cell_type": "code",
   "execution_count": 11,
   "metadata": {},
   "outputs": [],
   "source": [
    "base_link = 'https://cr.indeed.com'\n",
    "job_links = []\n",
    "for job in job_list:\n",
    "    job_links.append(job['link'])"
   ]
  },
  {
   "cell_type": "markdown",
   "metadata": {},
   "source": [
    "## Visition job at 0 pos"
   ]
  },
  {
   "cell_type": "code",
   "execution_count": 12,
   "metadata": {},
   "outputs": [
    {
     "data": {
      "text/plain": [
       "True"
      ]
     },
     "execution_count": 12,
     "metadata": {},
     "output_type": "execute_result"
    }
   ],
   "source": [
    "response2 = req.get(job_links[0].__str__())\n",
    "response2.ok"
   ]
  },
  {
   "cell_type": "code",
   "execution_count": 13,
   "metadata": {},
   "outputs": [],
   "source": [
    "jobs_soup2 = bs4.BeautifulSoup(response2.text, 'html.parser')"
   ]
  },
  {
   "cell_type": "markdown",
   "metadata": {},
   "source": [
    "## Company & location selector"
   ]
  },
  {
   "cell_type": "code",
   "execution_count": 14,
   "metadata": {},
   "outputs": [
    {
     "data": {
      "text/plain": [
       "'Confidential-San José, Provincia de San José'"
      ]
     },
     "execution_count": 14,
     "metadata": {},
     "output_type": "execute_result"
    }
   ],
   "source": [
    "jobs_soup2.select('.jobsearch-InlineCompanyRating')[0].text"
   ]
  },
  {
   "cell_type": "markdown",
   "metadata": {},
   "source": [
    "## Job description"
   ]
  },
  {
   "cell_type": "code",
   "execution_count": 15,
   "metadata": {},
   "outputs": [
    {
     "data": {
      "text/plain": [
       "\"About YouWe're looking for a forward thinking, engaging, Full Stack Senior Wordpress Developer with the ability to work closely with our design & marketing teams and manage multiple clients WP sites.You will live and breathe development and will be able to demonstrate your ability solve complex prob\""
      ]
     },
     "execution_count": 15,
     "metadata": {},
     "output_type": "execute_result"
    }
   ],
   "source": [
    "jobs_soup2.select('#jobDescriptionText')[0].text[:300]"
   ]
  },
  {
   "cell_type": "markdown",
   "metadata": {},
   "source": [
    "# Dealing with pagination"
   ]
  },
  {
   "cell_type": "markdown",
   "metadata": {},
   "source": [
    "## Get next pag url"
   ]
  },
  {
   "cell_type": "code",
   "execution_count": 16,
   "metadata": {},
   "outputs": [
    {
     "data": {
      "text/plain": [
       "'/jobs?q=Developer&l=Costa+Rica&start=10'"
      ]
     },
     "metadata": {},
     "output_type": "display_data"
    }
   ],
   "source": [
    "# Get last number page in the pagination field and then get the url from that particular number anchor object\n",
    "_next = jobs_soup.select('.pagination a')[-1]['href']\n",
    "display(_next)"
   ]
  },
  {
   "cell_type": "code",
   "execution_count": 17,
   "metadata": {},
   "outputs": [
    {
     "data": {
      "text/plain": [
       "'https://cr.indeed.com/jobs?q=Developer&l=Costa+Rica&start=230'"
      ]
     },
     "metadata": {},
     "output_type": "display_data"
    }
   ],
   "source": [
    "# URL is incomplete, concat with base url\n",
    "next_link = f'{base_link}/jobs?q=Developer&l=Costa+Rica&start=230'\n",
    "display(next_link)"
   ]
  },
  {
   "cell_type": "markdown",
   "metadata": {},
   "source": [
    "# Read CSV Generated file"
   ]
  },
  {
   "cell_type": "code",
   "execution_count": 25,
   "metadata": {},
   "outputs": [
    {
     "data": {
      "text/html": [
       "<div>\n",
       "<style scoped>\n",
       "    .dataframe tbody tr th:only-of-type {\n",
       "        vertical-align: middle;\n",
       "    }\n",
       "\n",
       "    .dataframe tbody tr th {\n",
       "        vertical-align: top;\n",
       "    }\n",
       "\n",
       "    .dataframe thead th {\n",
       "        text-align: right;\n",
       "    }\n",
       "</style>\n",
       "<table border=\"1\" class=\"dataframe\">\n",
       "  <thead>\n",
       "    <tr style=\"text-align: right;\">\n",
       "      <th></th>\n",
       "      <th>Unnamed: 0</th>\n",
       "      <th>company</th>\n",
       "      <th>description</th>\n",
       "      <th>link</th>\n",
       "      <th>location</th>\n",
       "      <th>title</th>\n",
       "    </tr>\n",
       "  </thead>\n",
       "  <tbody>\n",
       "    <tr>\n",
       "      <th>0</th>\n",
       "      <td>0</td>\n",
       "      <td>Confidential</td>\n",
       "      <td>About YouWe're looking for a forward thinking,...</td>\n",
       "      <td>https://cr.indeed.com/pagead/clk?mo=r&amp;ad=-6NYl...</td>\n",
       "      <td>San José, Provincia de San José</td>\n",
       "      <td>Wordpress Developer - Senior - Full Stack</td>\n",
       "    </tr>\n",
       "    <tr>\n",
       "      <th>1</th>\n",
       "      <td>1</td>\n",
       "      <td>Wind River</td>\n",
       "      <td>Position Title: Data Developer\\nLocation: Cost...</td>\n",
       "      <td>https://cr.indeed.com/rc/clk?jk=db6ad71bdea13e...</td>\n",
       "      <td>San José, Provincia de San José</td>\n",
       "      <td>Data Developer</td>\n",
       "    </tr>\n",
       "    <tr>\n",
       "      <th>2</th>\n",
       "      <td>2</td>\n",
       "      <td>Debugger Technology Solutions</td>\n",
       "      <td>Opciones de Contrato: (medio tiempo - tiempo c...</td>\n",
       "      <td>https://cr.indeed.com/rc/clk?jk=3cb3503d625c9a...</td>\n",
       "      <td>Curridabat, Provincia de San José</td>\n",
       "      <td>WordPress Developer (Junior)</td>\n",
       "    </tr>\n",
       "    <tr>\n",
       "      <th>3</th>\n",
       "      <td>3</td>\n",
       "      <td>Accenture</td>\n",
       "      <td>Accenture solves our clients' toughest challen...</td>\n",
       "      <td>https://cr.indeed.com/rc/clk?jk=9ee85b4d7614c1...</td>\n",
       "      <td>San José, Provincia de San José</td>\n",
       "      <td>Front-End Developer Analyst</td>\n",
       "    </tr>\n",
       "    <tr>\n",
       "      <th>4</th>\n",
       "      <td>4</td>\n",
       "      <td>MBC Developers</td>\n",
       "      <td>Perfil del puesto: Se requiere Ingeniero(a) de...</td>\n",
       "      <td>https://cr.indeed.com/rc/clk?jk=4591ca5da45148...</td>\n",
       "      <td>Montes de Oca, Provincia de San José</td>\n",
       "      <td>Junior Developer</td>\n",
       "    </tr>\n",
       "    <tr>\n",
       "      <th>5</th>\n",
       "      <td>5</td>\n",
       "      <td>Perfiles Tecnológicos</td>\n",
       "      <td>The ideal candidate is a self- motivated, mult...</td>\n",
       "      <td>https://cr.indeed.com/rc/clk?jk=05fd6bc019bb0e...</td>\n",
       "      <td>San José, Provincia de San José</td>\n",
       "      <td>Azure Backend Developer</td>\n",
       "    </tr>\n",
       "    <tr>\n",
       "      <th>6</th>\n",
       "      <td>6</td>\n",
       "      <td>4Geeks Technologies</td>\n",
       "      <td>Your role would be to provide support to a sen...</td>\n",
       "      <td>https://cr.indeed.com/rc/clk?jk=f50e11f2dc0065...</td>\n",
       "      <td>San José, Provincia de San José</td>\n",
       "      <td>Jr. Drupal Developer</td>\n",
       "    </tr>\n",
       "    <tr>\n",
       "      <th>7</th>\n",
       "      <td>7</td>\n",
       "      <td>Accenture</td>\n",
       "      <td>Accenture solves our clients' toughest challen...</td>\n",
       "      <td>https://cr.indeed.com/rc/clk?jk=3e216ade39e58a...</td>\n",
       "      <td>San José, Provincia de San José</td>\n",
       "      <td>Web Developer Associate</td>\n",
       "    </tr>\n",
       "    <tr>\n",
       "      <th>8</th>\n",
       "      <td>8</td>\n",
       "      <td>ServicePro</td>\n",
       "      <td>We are rapidly growing software company lookin...</td>\n",
       "      <td>https://cr.indeed.com/rc/clk?jk=c8bf502c8c987e...</td>\n",
       "      <td>San José, Provincia de San José</td>\n",
       "      <td>Developer</td>\n",
       "    </tr>\n",
       "    <tr>\n",
       "      <th>9</th>\n",
       "      <td>9</td>\n",
       "      <td>NTT DATA Services</td>\n",
       "      <td>Req ID: 59667\\n\\nAt NTT DATA Services, we know...</td>\n",
       "      <td>https://cr.indeed.com/rc/clk?jk=cc1f81cac44d1c...</td>\n",
       "      <td>San José, Provincia de San José</td>\n",
       "      <td>Cognos Developer</td>\n",
       "    </tr>\n",
       "  </tbody>\n",
       "</table>\n",
       "</div>"
      ],
      "text/plain": [
       "   Unnamed: 0                        company  \\\n",
       "0           0                   Confidential   \n",
       "1           1                     Wind River   \n",
       "2           2  Debugger Technology Solutions   \n",
       "3           3                      Accenture   \n",
       "4           4                 MBC Developers   \n",
       "5           5          Perfiles Tecnológicos   \n",
       "6           6            4Geeks Technologies   \n",
       "7           7                      Accenture   \n",
       "8           8                     ServicePro   \n",
       "9           9              NTT DATA Services   \n",
       "\n",
       "                                         description  \\\n",
       "0  About YouWe're looking for a forward thinking,...   \n",
       "1  Position Title: Data Developer\\nLocation: Cost...   \n",
       "2  Opciones de Contrato: (medio tiempo - tiempo c...   \n",
       "3  Accenture solves our clients' toughest challen...   \n",
       "4  Perfil del puesto: Se requiere Ingeniero(a) de...   \n",
       "5  The ideal candidate is a self- motivated, mult...   \n",
       "6  Your role would be to provide support to a sen...   \n",
       "7  Accenture solves our clients' toughest challen...   \n",
       "8  We are rapidly growing software company lookin...   \n",
       "9  Req ID: 59667\\n\\nAt NTT DATA Services, we know...   \n",
       "\n",
       "                                                link  \\\n",
       "0  https://cr.indeed.com/pagead/clk?mo=r&ad=-6NYl...   \n",
       "1  https://cr.indeed.com/rc/clk?jk=db6ad71bdea13e...   \n",
       "2  https://cr.indeed.com/rc/clk?jk=3cb3503d625c9a...   \n",
       "3  https://cr.indeed.com/rc/clk?jk=9ee85b4d7614c1...   \n",
       "4  https://cr.indeed.com/rc/clk?jk=4591ca5da45148...   \n",
       "5  https://cr.indeed.com/rc/clk?jk=05fd6bc019bb0e...   \n",
       "6  https://cr.indeed.com/rc/clk?jk=f50e11f2dc0065...   \n",
       "7  https://cr.indeed.com/rc/clk?jk=3e216ade39e58a...   \n",
       "8  https://cr.indeed.com/rc/clk?jk=c8bf502c8c987e...   \n",
       "9  https://cr.indeed.com/rc/clk?jk=cc1f81cac44d1c...   \n",
       "\n",
       "                               location  \\\n",
       "0       San José, Provincia de San José   \n",
       "1       San José, Provincia de San José   \n",
       "2     Curridabat, Provincia de San José   \n",
       "3       San José, Provincia de San José   \n",
       "4  Montes de Oca, Provincia de San José   \n",
       "5       San José, Provincia de San José   \n",
       "6       San José, Provincia de San José   \n",
       "7       San José, Provincia de San José   \n",
       "8       San José, Provincia de San José   \n",
       "9       San José, Provincia de San José   \n",
       "\n",
       "                                       title  \n",
       "0  Wordpress Developer - Senior - Full Stack  \n",
       "1                             Data Developer  \n",
       "2               WordPress Developer (Junior)  \n",
       "3                Front-End Developer Analyst  \n",
       "4                           Junior Developer  \n",
       "5                    Azure Backend Developer  \n",
       "6                       Jr. Drupal Developer  \n",
       "7                    Web Developer Associate  \n",
       "8                                  Developer  \n",
       "9                           Cognos Developer  "
      ]
     },
     "execution_count": 25,
     "metadata": {},
     "output_type": "execute_result"
    }
   ],
   "source": [
    "df = pd.read_csv(r'..\\data\\crjobs.csv')\n",
    "df.head(10)"
   ]
  },
  {
   "cell_type": "markdown",
   "metadata": {},
   "source": [
    "# Questions"
   ]
  },
  {
   "cell_type": "code",
   "execution_count": 26,
   "metadata": {},
   "outputs": [
    {
     "data": {
      "text/plain": [
       "(261, 6)"
      ]
     },
     "execution_count": 26,
     "metadata": {},
     "output_type": "execute_result"
    }
   ],
   "source": [
    "df.shape"
   ]
  },
  {
   "cell_type": "code",
   "execution_count": null,
   "metadata": {},
   "outputs": [],
   "source": []
  }
 ],
 "metadata": {
  "kernelspec": {
   "display_name": "Python 3",
   "language": "python",
   "name": "python3"
  },
  "language_info": {
   "codemirror_mode": {
    "name": "ipython",
    "version": 3
   },
   "file_extension": ".py",
   "mimetype": "text/x-python",
   "name": "python",
   "nbconvert_exporter": "python",
   "pygments_lexer": "ipython3",
   "version": "3.7.3"
  }
 },
 "nbformat": 4,
 "nbformat_minor": 2
}
