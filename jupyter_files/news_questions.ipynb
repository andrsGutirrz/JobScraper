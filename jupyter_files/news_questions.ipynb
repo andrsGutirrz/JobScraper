{
 "cells": [
  {
   "cell_type": "code",
   "execution_count": 1,
   "metadata": {},
   "outputs": [],
   "source": [
    "import pandas as pd\n",
    "import numpy as np"
   ]
  },
  {
   "cell_type": "markdown",
   "metadata": {},
   "source": [
    "# Data wrangling"
   ]
  },
  {
   "cell_type": "markdown",
   "metadata": {},
   "source": [
    "### Read CSV"
   ]
  },
  {
   "cell_type": "code",
   "execution_count": 2,
   "metadata": {},
   "outputs": [
    {
     "data": {
      "text/html": [
       "<div>\n",
       "<style scoped>\n",
       "    .dataframe tbody tr th:only-of-type {\n",
       "        vertical-align: middle;\n",
       "    }\n",
       "\n",
       "    .dataframe tbody tr th {\n",
       "        vertical-align: top;\n",
       "    }\n",
       "\n",
       "    .dataframe thead th {\n",
       "        text-align: right;\n",
       "    }\n",
       "</style>\n",
       "<table border=\"1\" class=\"dataframe\">\n",
       "  <thead>\n",
       "    <tr style=\"text-align: right;\">\n",
       "      <th></th>\n",
       "      <th>body</th>\n",
       "      <th>title</th>\n",
       "      <th>url</th>\n",
       "    </tr>\n",
       "  </thead>\n",
       "  <tbody>\n",
       "    <tr>\n",
       "      <th>0</th>\n",
       "      <td>\\nLa procuradora Ernestina Godoy confirmó que ...</td>\n",
       "      <td>Matan a exdiputado de Tláhuac; investigan vínc...</td>\n",
       "      <td>http://www.eluniversal.com.mx/metropoli/cdmx/m...</td>\n",
       "    </tr>\n",
       "    <tr>\n",
       "      <th>1</th>\n",
       "      <td>NaN</td>\n",
       "      <td>NaN</td>\n",
       "      <td>http://www.eluniversal.com.mx/deportes/box</td>\n",
       "    </tr>\n",
       "    <tr>\n",
       "      <th>2</th>\n",
       "      <td>NaN</td>\n",
       "      <td>NaN</td>\n",
       "      <td>https://www.tangible-eluniversal.com.mx/en-ver...</td>\n",
       "    </tr>\n",
       "  </tbody>\n",
       "</table>\n",
       "</div>"
      ],
      "text/plain": [
       "                                                body  \\\n",
       "0  \\nLa procuradora Ernestina Godoy confirmó que ...   \n",
       "1                                                NaN   \n",
       "2                                                NaN   \n",
       "\n",
       "                                               title  \\\n",
       "0  Matan a exdiputado de Tláhuac; investigan vínc...   \n",
       "1                                                NaN   \n",
       "2                                                NaN   \n",
       "\n",
       "                                                 url  \n",
       "0  http://www.eluniversal.com.mx/metropoli/cdmx/m...  \n",
       "1         http://www.eluniversal.com.mx/deportes/box  \n",
       "2  https://www.tangible-eluniversal.com.mx/en-ver...  "
      ]
     },
     "execution_count": 2,
     "metadata": {},
     "output_type": "execute_result"
    }
   ],
   "source": [
    "news = pd.read_csv('eluniversal_2019_06_07_articles.csv')\n",
    "news.head(3)"
   ]
  },
  {
   "cell_type": "markdown",
   "metadata": {},
   "source": [
    "### Add the news paper id"
   ]
  },
  {
   "cell_type": "code",
   "execution_count": 3,
   "metadata": {},
   "outputs": [
    {
     "data": {
      "text/html": [
       "<div>\n",
       "<style scoped>\n",
       "    .dataframe tbody tr th:only-of-type {\n",
       "        vertical-align: middle;\n",
       "    }\n",
       "\n",
       "    .dataframe tbody tr th {\n",
       "        vertical-align: top;\n",
       "    }\n",
       "\n",
       "    .dataframe thead th {\n",
       "        text-align: right;\n",
       "    }\n",
       "</style>\n",
       "<table border=\"1\" class=\"dataframe\">\n",
       "  <thead>\n",
       "    <tr style=\"text-align: right;\">\n",
       "      <th></th>\n",
       "      <th>body</th>\n",
       "      <th>title</th>\n",
       "      <th>url</th>\n",
       "      <th>newspaper_uid</th>\n",
       "    </tr>\n",
       "  </thead>\n",
       "  <tbody>\n",
       "    <tr>\n",
       "      <th>0</th>\n",
       "      <td>\\nLa procuradora Ernestina Godoy confirmó que ...</td>\n",
       "      <td>Matan a exdiputado de Tláhuac; investigan vínc...</td>\n",
       "      <td>http://www.eluniversal.com.mx/metropoli/cdmx/m...</td>\n",
       "      <td>eluniversal</td>\n",
       "    </tr>\n",
       "    <tr>\n",
       "      <th>1</th>\n",
       "      <td>NaN</td>\n",
       "      <td>NaN</td>\n",
       "      <td>http://www.eluniversal.com.mx/deportes/box</td>\n",
       "      <td>eluniversal</td>\n",
       "    </tr>\n",
       "    <tr>\n",
       "      <th>2</th>\n",
       "      <td>NaN</td>\n",
       "      <td>NaN</td>\n",
       "      <td>https://www.tangible-eluniversal.com.mx/en-ver...</td>\n",
       "      <td>eluniversal</td>\n",
       "    </tr>\n",
       "  </tbody>\n",
       "</table>\n",
       "</div>"
      ],
      "text/plain": [
       "                                                body  \\\n",
       "0  \\nLa procuradora Ernestina Godoy confirmó que ...   \n",
       "1                                                NaN   \n",
       "2                                                NaN   \n",
       "\n",
       "                                               title  \\\n",
       "0  Matan a exdiputado de Tláhuac; investigan vínc...   \n",
       "1                                                NaN   \n",
       "2                                                NaN   \n",
       "\n",
       "                                                 url newspaper_uid  \n",
       "0  http://www.eluniversal.com.mx/metropoli/cdmx/m...   eluniversal  \n",
       "1         http://www.eluniversal.com.mx/deportes/box   eluniversal  \n",
       "2  https://www.tangible-eluniversal.com.mx/en-ver...   eluniversal  "
      ]
     },
     "execution_count": 3,
     "metadata": {},
     "output_type": "execute_result"
    }
   ],
   "source": [
    "news['newspaper_uid'] = 'eluniversal'\n",
    "news.head(3)"
   ]
  },
  {
   "cell_type": "markdown",
   "metadata": {},
   "source": [
    "### 1. Get the host of the url"
   ]
  },
  {
   "cell_type": "code",
   "execution_count": 4,
   "metadata": {},
   "outputs": [
    {
     "data": {
      "text/html": [
       "<div>\n",
       "<style scoped>\n",
       "    .dataframe tbody tr th:only-of-type {\n",
       "        vertical-align: middle;\n",
       "    }\n",
       "\n",
       "    .dataframe tbody tr th {\n",
       "        vertical-align: top;\n",
       "    }\n",
       "\n",
       "    .dataframe thead th {\n",
       "        text-align: right;\n",
       "    }\n",
       "</style>\n",
       "<table border=\"1\" class=\"dataframe\">\n",
       "  <thead>\n",
       "    <tr style=\"text-align: right;\">\n",
       "      <th></th>\n",
       "      <th>body</th>\n",
       "      <th>title</th>\n",
       "      <th>url</th>\n",
       "      <th>newspaper_uid</th>\n",
       "      <th>host</th>\n",
       "    </tr>\n",
       "  </thead>\n",
       "  <tbody>\n",
       "    <tr>\n",
       "      <th>0</th>\n",
       "      <td>\\nLa procuradora Ernestina Godoy confirmó que ...</td>\n",
       "      <td>Matan a exdiputado de Tláhuac; investigan vínc...</td>\n",
       "      <td>http://www.eluniversal.com.mx/metropoli/cdmx/m...</td>\n",
       "      <td>eluniversal</td>\n",
       "      <td>www.eluniversal.com.mx</td>\n",
       "    </tr>\n",
       "    <tr>\n",
       "      <th>1</th>\n",
       "      <td>NaN</td>\n",
       "      <td>NaN</td>\n",
       "      <td>http://www.eluniversal.com.mx/deportes/box</td>\n",
       "      <td>eluniversal</td>\n",
       "      <td>www.eluniversal.com.mx</td>\n",
       "    </tr>\n",
       "    <tr>\n",
       "      <th>2</th>\n",
       "      <td>NaN</td>\n",
       "      <td>NaN</td>\n",
       "      <td>https://www.tangible-eluniversal.com.mx/en-ver...</td>\n",
       "      <td>eluniversal</td>\n",
       "      <td>www.tangible-eluniversal.com.mx</td>\n",
       "    </tr>\n",
       "  </tbody>\n",
       "</table>\n",
       "</div>"
      ],
      "text/plain": [
       "                                                body  \\\n",
       "0  \\nLa procuradora Ernestina Godoy confirmó que ...   \n",
       "1                                                NaN   \n",
       "2                                                NaN   \n",
       "\n",
       "                                               title  \\\n",
       "0  Matan a exdiputado de Tláhuac; investigan vínc...   \n",
       "1                                                NaN   \n",
       "2                                                NaN   \n",
       "\n",
       "                                                 url newspaper_uid  \\\n",
       "0  http://www.eluniversal.com.mx/metropoli/cdmx/m...   eluniversal   \n",
       "1         http://www.eluniversal.com.mx/deportes/box   eluniversal   \n",
       "2  https://www.tangible-eluniversal.com.mx/en-ver...   eluniversal   \n",
       "\n",
       "                              host  \n",
       "0           www.eluniversal.com.mx  \n",
       "1           www.eluniversal.com.mx  \n",
       "2  www.tangible-eluniversal.com.mx  "
      ]
     },
     "execution_count": 4,
     "metadata": {},
     "output_type": "execute_result"
    }
   ],
   "source": [
    "# hint: use urllib.parse\n",
    "from urllib.parse import urlparse\n",
    "news['host'] = news['url'].apply(lambda url: urlparse(url).netloc)\n",
    "news.head(3)"
   ]
  },
  {
   "cell_type": "markdown",
   "metadata": {},
   "source": [
    "### 2. Frecuencies for each host found"
   ]
  },
  {
   "cell_type": "code",
   "execution_count": 5,
   "metadata": {},
   "outputs": [
    {
     "data": {
      "text/plain": [
       "www.eluniversal.com.mx             115\n",
       "www.viveusa.mx                       9\n",
       "www.elbotiquin.mx                    9\n",
       "bit.ly                               8\n",
       "www.tangible-eluniversal.com.mx      7\n",
       "www.unionjalisco.mx                  6\n",
       "www.eluniversalqueretaro.mx          5\n",
       "sanluis.eluniversal.com.mx           5\n",
       "oaxaca.eluniversal.com.mx            5\n",
       "www.elgrafico.mx                     5\n",
       "www.eluniversalvideo.com.mx          4\n",
       "de10.com.mx                          4\n",
       "www.unioncdmx.mx                     3\n",
       "www.revistaclase.mx                  3\n",
       "www.unionpuebla.mx                   3\n",
       "www.clubeluniversal.mx               2\n",
       "twitter.com                          1\n",
       "interactivo.eluniversal.com.mx       1\n",
       "www.unionyucatan.mx                  1\n",
       "www.unionedomex.mx                   1\n",
       "www.unionguanajuato.mx               1\n",
       "www.facebook.com                     1\n",
       "Name: host, dtype: int64"
      ]
     },
     "execution_count": 5,
     "metadata": {},
     "output_type": "execute_result"
    }
   ],
   "source": [
    "news['host'].value_counts()"
   ]
  },
  {
   "cell_type": "markdown",
   "metadata": {},
   "source": [
    "### 3. Fill the nans of the title column"
   ]
  },
  {
   "cell_type": "code",
   "execution_count": 6,
   "metadata": {},
   "outputs": [
    {
     "data": {
      "text/plain": [
       "0    False\n",
       "1     True\n",
       "2     True\n",
       "3    False\n",
       "Name: title, dtype: bool"
      ]
     },
     "execution_count": 6,
     "metadata": {},
     "output_type": "execute_result"
    }
   ],
   "source": [
    "missing_titles_mask = news['title'].isna()\n",
    "missing_titles_mask[:4]"
   ]
  },
  {
   "cell_type": "code",
   "execution_count": 7,
   "metadata": {},
   "outputs": [
    {
     "data": {
      "text/html": [
       "<div>\n",
       "<style scoped>\n",
       "    .dataframe tbody tr th:only-of-type {\n",
       "        vertical-align: middle;\n",
       "    }\n",
       "\n",
       "    .dataframe tbody tr th {\n",
       "        vertical-align: top;\n",
       "    }\n",
       "\n",
       "    .dataframe thead th {\n",
       "        text-align: right;\n",
       "    }\n",
       "</style>\n",
       "<table border=\"1\" class=\"dataframe\">\n",
       "  <thead>\n",
       "    <tr style=\"text-align: right;\">\n",
       "      <th></th>\n",
       "      <th>body</th>\n",
       "      <th>title</th>\n",
       "      <th>url</th>\n",
       "      <th>newspaper_uid</th>\n",
       "      <th>host</th>\n",
       "    </tr>\n",
       "  </thead>\n",
       "  <tbody>\n",
       "    <tr>\n",
       "      <th>1</th>\n",
       "      <td>NaN</td>\n",
       "      <td>NaN</td>\n",
       "      <td>http://www.eluniversal.com.mx/deportes/box</td>\n",
       "      <td>eluniversal</td>\n",
       "      <td>www.eluniversal.com.mx</td>\n",
       "    </tr>\n",
       "    <tr>\n",
       "      <th>2</th>\n",
       "      <td>NaN</td>\n",
       "      <td>NaN</td>\n",
       "      <td>https://www.tangible-eluniversal.com.mx/en-ver...</td>\n",
       "      <td>eluniversal</td>\n",
       "      <td>www.tangible-eluniversal.com.mx</td>\n",
       "    </tr>\n",
       "    <tr>\n",
       "      <th>6</th>\n",
       "      <td>CUERNAVACA.– Tres hombres fueron detenidos, un...</td>\n",
       "      <td>NaN</td>\n",
       "      <td>https://www.elgrafico.mx/la-roja/ladron-se-dis...</td>\n",
       "      <td>eluniversal</td>\n",
       "      <td>www.elgrafico.mx</td>\n",
       "    </tr>\n",
       "  </tbody>\n",
       "</table>\n",
       "</div>"
      ],
      "text/plain": [
       "                                                body title  \\\n",
       "1                                                NaN   NaN   \n",
       "2                                                NaN   NaN   \n",
       "6  CUERNAVACA.– Tres hombres fueron detenidos, un...   NaN   \n",
       "\n",
       "                                                 url newspaper_uid  \\\n",
       "1         http://www.eluniversal.com.mx/deportes/box   eluniversal   \n",
       "2  https://www.tangible-eluniversal.com.mx/en-ver...   eluniversal   \n",
       "6  https://www.elgrafico.mx/la-roja/ladron-se-dis...   eluniversal   \n",
       "\n",
       "                              host  \n",
       "1           www.eluniversal.com.mx  \n",
       "2  www.tangible-eluniversal.com.mx  \n",
       "6                 www.elgrafico.mx  "
      ]
     },
     "execution_count": 7,
     "metadata": {},
     "output_type": "execute_result"
    }
   ],
   "source": [
    "news[missing_titles_mask].head(3)"
   ]
  },
  {
   "cell_type": "code",
   "execution_count": 8,
   "metadata": {},
   "outputs": [
    {
     "data": {
      "text/html": [
       "<div>\n",
       "<style scoped>\n",
       "    .dataframe tbody tr th:only-of-type {\n",
       "        vertical-align: middle;\n",
       "    }\n",
       "\n",
       "    .dataframe tbody tr th {\n",
       "        vertical-align: top;\n",
       "    }\n",
       "\n",
       "    .dataframe thead th {\n",
       "        text-align: right;\n",
       "    }\n",
       "</style>\n",
       "<table border=\"1\" class=\"dataframe\">\n",
       "  <thead>\n",
       "    <tr style=\"text-align: right;\">\n",
       "      <th></th>\n",
       "      <th>missing_titles</th>\n",
       "    </tr>\n",
       "  </thead>\n",
       "  <tbody>\n",
       "    <tr>\n",
       "      <th>1</th>\n",
       "      <td>box</td>\n",
       "    </tr>\n",
       "    <tr>\n",
       "      <th>2</th>\n",
       "      <td>en-verdad-padecio-sifilis-schubert-el-gran-com...</td>\n",
       "    </tr>\n",
       "    <tr>\n",
       "      <th>6</th>\n",
       "      <td>ladron-se-dispara-durante-asalto-pizzeria-en-m...</td>\n",
       "    </tr>\n",
       "  </tbody>\n",
       "</table>\n",
       "</div>"
      ],
      "text/plain": [
       "                                      missing_titles\n",
       "1                                                box\n",
       "2  en-verdad-padecio-sifilis-schubert-el-gran-com...\n",
       "6  ladron-se-dispara-durante-asalto-pizzeria-en-m..."
      ]
     },
     "execution_count": 8,
     "metadata": {},
     "output_type": "execute_result"
    }
   ],
   "source": [
    "(news[missing_titles_mask]['url']\n",
    " .str.extract(r'(?P<missing_titles>[^/]+)$')\n",
    ").head(3)"
   ]
  },
  {
   "cell_type": "code",
   "execution_count": 24,
   "metadata": {},
   "outputs": [
    {
     "data": {
      "text/html": [
       "<div>\n",
       "<style scoped>\n",
       "    .dataframe tbody tr th:only-of-type {\n",
       "        vertical-align: middle;\n",
       "    }\n",
       "\n",
       "    .dataframe tbody tr th {\n",
       "        vertical-align: top;\n",
       "    }\n",
       "\n",
       "    .dataframe thead th {\n",
       "        text-align: right;\n",
       "    }\n",
       "</style>\n",
       "<table border=\"1\" class=\"dataframe\">\n",
       "  <thead>\n",
       "    <tr style=\"text-align: right;\">\n",
       "      <th></th>\n",
       "      <th>0</th>\n",
       "    </tr>\n",
       "  </thead>\n",
       "  <tbody>\n",
       "    <tr>\n",
       "      <th>1</th>\n",
       "      <td>box</td>\n",
       "    </tr>\n",
       "    <tr>\n",
       "      <th>2</th>\n",
       "      <td>en-verdad-padecio-sifilis-schubert-el-gran-com...</td>\n",
       "    </tr>\n",
       "  </tbody>\n",
       "</table>\n",
       "</div>"
      ],
      "text/plain": [
       "                                                   0\n",
       "1                                                box\n",
       "2  en-verdad-padecio-sifilis-schubert-el-gran-com..."
      ]
     },
     "execution_count": 24,
     "metadata": {},
     "output_type": "execute_result"
    }
   ],
   "source": [
    "(news[missing_titles_mask]['url']\n",
    " .str.extract(r'([^/]+)$')\n",
    ").head(2)"
   ]
  },
  {
   "cell_type": "code",
   "execution_count": 27,
   "metadata": {},
   "outputs": [],
   "source": [
    "clean = (news[missing_titles_mask]['url']\n",
    " .str.extract(r'([^/]+)$')\n",
    ")[0].apply(lambda s: str(s).replace(\"-\",\" \").capitalize())"
   ]
  },
  {
   "cell_type": "code",
   "execution_count": 30,
   "metadata": {},
   "outputs": [],
   "source": [
    "news.loc[missing_titles_mask, 'title'] = clean"
   ]
  },
  {
   "cell_type": "code",
   "execution_count": 31,
   "metadata": {},
   "outputs": [
    {
     "data": {
      "text/html": [
       "<div>\n",
       "<style scoped>\n",
       "    .dataframe tbody tr th:only-of-type {\n",
       "        vertical-align: middle;\n",
       "    }\n",
       "\n",
       "    .dataframe tbody tr th {\n",
       "        vertical-align: top;\n",
       "    }\n",
       "\n",
       "    .dataframe thead th {\n",
       "        text-align: right;\n",
       "    }\n",
       "</style>\n",
       "<table border=\"1\" class=\"dataframe\">\n",
       "  <thead>\n",
       "    <tr style=\"text-align: right;\">\n",
       "      <th></th>\n",
       "      <th>body</th>\n",
       "      <th>title</th>\n",
       "      <th>url</th>\n",
       "      <th>newspaper_uid</th>\n",
       "      <th>host</th>\n",
       "    </tr>\n",
       "  </thead>\n",
       "  <tbody>\n",
       "    <tr>\n",
       "      <th>0</th>\n",
       "      <td>\\nLa procuradora Ernestina Godoy confirmó que ...</td>\n",
       "      <td>Matan a exdiputado de Tláhuac; investigan vínc...</td>\n",
       "      <td>http://www.eluniversal.com.mx/metropoli/cdmx/m...</td>\n",
       "      <td>eluniversal</td>\n",
       "      <td>www.eluniversal.com.mx</td>\n",
       "    </tr>\n",
       "    <tr>\n",
       "      <th>1</th>\n",
       "      <td>NaN</td>\n",
       "      <td>Box</td>\n",
       "      <td>http://www.eluniversal.com.mx/deportes/box</td>\n",
       "      <td>eluniversal</td>\n",
       "      <td>www.eluniversal.com.mx</td>\n",
       "    </tr>\n",
       "    <tr>\n",
       "      <th>2</th>\n",
       "      <td>NaN</td>\n",
       "      <td>En verdad padecio sifilis schubert el gran com...</td>\n",
       "      <td>https://www.tangible-eluniversal.com.mx/en-ver...</td>\n",
       "      <td>eluniversal</td>\n",
       "      <td>www.tangible-eluniversal.com.mx</td>\n",
       "    </tr>\n",
       "    <tr>\n",
       "      <th>3</th>\n",
       "      <td>\\n\\nTras el triunfo de Barbosa y la derrota de...</td>\n",
       "      <td>Puebla: un tropiezo electoral no es una derrot...</td>\n",
       "      <td>https://www.eluniversal.com.mx/articulo/maria-...</td>\n",
       "      <td>eluniversal</td>\n",
       "      <td>www.eluniversal.com.mx</td>\n",
       "    </tr>\n",
       "    <tr>\n",
       "      <th>4</th>\n",
       "      <td>\\n\\nLa noticia de que las niñas y niños de la ...</td>\n",
       "      <td>Entre faldas y pantalones</td>\n",
       "      <td>https://www.eluniversal.com.mx/articulo/letici...</td>\n",
       "      <td>eluniversal</td>\n",
       "      <td>www.eluniversal.com.mx</td>\n",
       "    </tr>\n",
       "  </tbody>\n",
       "</table>\n",
       "</div>"
      ],
      "text/plain": [
       "                                                body  \\\n",
       "0  \\nLa procuradora Ernestina Godoy confirmó que ...   \n",
       "1                                                NaN   \n",
       "2                                                NaN   \n",
       "3  \\n\\nTras el triunfo de Barbosa y la derrota de...   \n",
       "4  \\n\\nLa noticia de que las niñas y niños de la ...   \n",
       "\n",
       "                                               title  \\\n",
       "0  Matan a exdiputado de Tláhuac; investigan vínc...   \n",
       "1                                                Box   \n",
       "2  En verdad padecio sifilis schubert el gran com...   \n",
       "3  Puebla: un tropiezo electoral no es una derrot...   \n",
       "4                          Entre faldas y pantalones   \n",
       "\n",
       "                                                 url newspaper_uid  \\\n",
       "0  http://www.eluniversal.com.mx/metropoli/cdmx/m...   eluniversal   \n",
       "1         http://www.eluniversal.com.mx/deportes/box   eluniversal   \n",
       "2  https://www.tangible-eluniversal.com.mx/en-ver...   eluniversal   \n",
       "3  https://www.eluniversal.com.mx/articulo/maria-...   eluniversal   \n",
       "4  https://www.eluniversal.com.mx/articulo/letici...   eluniversal   \n",
       "\n",
       "                              host  \n",
       "0           www.eluniversal.com.mx  \n",
       "1           www.eluniversal.com.mx  \n",
       "2  www.tangible-eluniversal.com.mx  \n",
       "3           www.eluniversal.com.mx  \n",
       "4           www.eluniversal.com.mx  "
      ]
     },
     "execution_count": 31,
     "metadata": {},
     "output_type": "execute_result"
    }
   ],
   "source": [
    "news.head()"
   ]
  },
  {
   "cell_type": "code",
   "execution_count": null,
   "metadata": {},
   "outputs": [],
   "source": []
  },
  {
   "cell_type": "code",
   "execution_count": null,
   "metadata": {},
   "outputs": [],
   "source": []
  },
  {
   "cell_type": "code",
   "execution_count": null,
   "metadata": {},
   "outputs": [],
   "source": []
  }
 ],
 "metadata": {
  "kernelspec": {
   "display_name": "Python 3",
   "language": "python",
   "name": "python3"
  },
  "language_info": {
   "codemirror_mode": {
    "name": "ipython",
    "version": 3
   },
   "file_extension": ".py",
   "mimetype": "text/x-python",
   "name": "python",
   "nbconvert_exporter": "python",
   "pygments_lexer": "ipython3",
   "version": "3.7.3"
  }
 },
 "nbformat": 4,
 "nbformat_minor": 2
}
